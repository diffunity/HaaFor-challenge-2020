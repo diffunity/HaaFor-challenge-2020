{
 "metadata": {
  "language_info": {
   "codemirror_mode": {
    "name": "ipython",
    "version": 3
   },
   "file_extension": ".py",
   "mimetype": "text/x-python",
   "name": "python",
   "nbconvert_exporter": "python",
   "pygments_lexer": "ipython3",
   "version": "3.7.4-final"
  },
  "orig_nbformat": 2,
  "kernelspec": {
   "name": ".venv",
   "display_name": ".venv"
  }
 },
 "nbformat": 4,
 "nbformat_minor": 2,
 "cells": [
  {
   "cell_type": "code",
   "execution_count": 19,
   "metadata": {},
   "outputs": [],
   "source": [
    "import pandas as pd\n",
    "import torch \n",
    "from transformers import BertModel, BertForNextSentencePrediction, BertTokenizer, AdamW\n",
    "from torch.nn import CrossEntropyLoss\n",
    "from torch.nn.functional import nll_loss, kl_div"
   ]
  },
  {
   "cell_type": "markdown",
   "metadata": {},
   "source": [
    "# Mock data"
   ]
  },
  {
   "cell_type": "code",
   "execution_count": 2,
   "metadata": {},
   "outputs": [],
   "source": [
    "headline_1 = [\"\"\"Qualcomm's Win Over Apple in Germany Won't Force Apple to Table\"\"\",\n",
    "\"\"\"Trump walks out of news conference after reporter asks him about Veterans Choice lie he's told more than 150 times\"\"\",\n",
    "\"\"\"'Everything is gone.' Flooding in China ruins farmers and risks rising food prices\"\"\"]\n",
    "\n",
    "body_1 = [\"\"\"Qualcomm's win over Apple in Germany, which if upheld will block the sale of some older model iPhones in Germany, could reduce Apple's quarterly sales by about $560 million, in our estimation. It's an important win for Qualcomm and builds on its momentum from a recent injunction in China, yet we don't think a victory in this battle will put enough pressure on Apple to settle the global dispute in the near term.\"\"\",\n",
    "\"\"\"Trump, speaking at his Bedminster, New Jersey, golf club, had claimed again that he is the one who got the Veterans Choice program passed -- adding, \"They've been trying to get that passed for decades and decades and decades and no president's ever been able to do it, and we got it done.\" In fact, former President Barack Obama signed the Choice program into law in 2014. The law, which allowed eligible veterans to be covered by the government for care provided by doctors outside the VA system, was a bipartisan initiative spearheaded by two senators Trump has repeatedly criticized, Bernie Sanders of Vermont and the late John McCain of Arizona. What Trump signed was a 2018 law, the VA MISSION Act, that modified and expanded the eligibility criteria from the Choice program. Rather than tout that bill, Trump has claimed over and over that he created Veterans Choice itself -- after others had failed for \"50 years.\" \"\"\",\n",
    "\"\"\"By this time of year, the rice growing on Bao Wentao's family farm should have been ready to harvest. Instead, heavy flooding has engulfed huge swathes of southern China, including more than 36 acres of rice fields that 19-year-old Bao and his father tend to in their village near Poyang Lake. \"The crops have completely failed,\" Bao told CNN Business in an interview over the social media app WeChat, adding that his family has already lost roughly 200,000 yuan ($28,000) worth of produce. \"The rice was nearly ripened and ready to harvest before the flooding. But now everything is gone.\" Surging floodwater burst the banks of Poyang Lake in Jiangxi province last month, destroying thousands of acres of farmland in what's known as the \"land of fish and rice.\" The broader Yangtze River basin — which includes Poyang Lake and stretches more than 3,900 miles from Shanghai in the east to the Tibetan border in the west — accounts for 70% of the country's rice production.\"\"\"]\n",
    "\n",
    "headline_2 = [\"\"\"Qualcomm's Germany Offensive Coming Up Short in Apple Row\"\"\",\n",
    "\"\"\"Former WWE wrestler James 'Kamala' Harris dies at 70\"\"\",\n",
    "\"\"\"One of India's biggest food delivery companies has introduced period leave\"\"\"]\n",
    "\n",
    "body_2 = [\"\"\"Qualcomm is losing steam in Germany with every decision that falls short of entirely blocking Apple's most popular iPhone models from being sold there. So far no judge has gone that far, with a Jan. 15 Mannheim court ruling in Apple's favor the latest setback for Qualcomm. The company sued Apple in Germany because the nation frequently grants broad injunctive relief in patent cases. We think Apple is likely to escape meaningful harm in Germany.\"\"\",\n",
    "\"\"\"Harris, who performed in the ring as Kamala, made his WWF debut in 1984, according to WWE's website. In a career that spanned more than two decades, Harris battled many of wrestling's superstars, including Hulk Hogan, The Undertaker and Andre the Giant, according to the release. \"He terrorized opponents and thrilled audiences in Mid-South, World Class Championship Wrestling, WCW and WWE until 2006,\" the WWE said. His character, Kamala, was promoted as a 6-foot-7, 350-pound \"Ugandan Giant.\" A cause of death for Harris was not given. Other wrestlers took to social media Sunday to honor Harris using the hashtag #ripkamala.\"\"\",\n",
    "\"\"\"In a statement Saturday, Zomato founder and CEO Deepinder Goyal said women and transgender people would be entitled to one day of period leave for each menstrual cycle. Zomato — which bought Uber's food delivery business in India earlier this year — is the most high profile company in the country to introduce period leave. At least a handful of other companies have introduced similar policies in the past, according to local media reports.\n",
    "\"At Zomato, we want to foster a culture of trust, truth and acceptance,\" Goyal said in an email to staff that was posted publicly. \"There shouldn't be any shame or stigma attached to applying for a period leave. You should feel free to tell people on internal groups, or emails that you are on your period leave for the day.\" \"\"\"]\n"
   ]
  },
  {
   "cell_type": "code",
   "execution_count": 3,
   "metadata": {},
   "outputs": [],
   "source": [
    "a = zip(headline_1, body_1, headline_2, body_2)\n",
    "\n",
    "data = pd.DataFrame([next(a), next(a), next(a)], columns=[\"HEADLINE_1\", \"BODY_1\",\"HEADLINE_2\",\"BODY_2\"])\n",
    "\n",
    "data.to_csv(\"train.csv\")"
   ]
  },
  {
   "cell_type": "code",
   "execution_count": 4,
   "metadata": {},
   "outputs": [
    {
     "output_type": "execute_result",
     "data": {
      "text/plain": "                                          HEADLINE_1  \\\n0  Qualcomm's Win Over Apple in Germany Won't For...   \n1  Trump walks out of news conference after repor...   \n2  'Everything is gone.' Flooding in China ruins ...   \n\n                                              BODY_1  \\\n0  Qualcomm's win over Apple in Germany, which if...   \n1  Trump, speaking at his Bedminster, New Jersey,...   \n2  By this time of year, the rice growing on Bao ...   \n\n                                          HEADLINE_2  \\\n0  Qualcomm's Germany Offensive Coming Up Short i...   \n1  Former WWE wrestler James 'Kamala' Harris dies...   \n2  One of India's biggest food delivery companies...   \n\n                                              BODY_2  \n0  Qualcomm is losing steam in Germany with every...  \n1  Harris, who performed in the ring as Kamala, m...  \n2  In a statement Saturday, Zomato founder and CE...  ",
      "text/html": "<div>\n<style scoped>\n    .dataframe tbody tr th:only-of-type {\n        vertical-align: middle;\n    }\n\n    .dataframe tbody tr th {\n        vertical-align: top;\n    }\n\n    .dataframe thead th {\n        text-align: right;\n    }\n</style>\n<table border=\"1\" class=\"dataframe\">\n  <thead>\n    <tr style=\"text-align: right;\">\n      <th></th>\n      <th>HEADLINE_1</th>\n      <th>BODY_1</th>\n      <th>HEADLINE_2</th>\n      <th>BODY_2</th>\n    </tr>\n  </thead>\n  <tbody>\n    <tr>\n      <th>0</th>\n      <td>Qualcomm's Win Over Apple in Germany Won't For...</td>\n      <td>Qualcomm's win over Apple in Germany, which if...</td>\n      <td>Qualcomm's Germany Offensive Coming Up Short i...</td>\n      <td>Qualcomm is losing steam in Germany with every...</td>\n    </tr>\n    <tr>\n      <th>1</th>\n      <td>Trump walks out of news conference after repor...</td>\n      <td>Trump, speaking at his Bedminster, New Jersey,...</td>\n      <td>Former WWE wrestler James 'Kamala' Harris dies...</td>\n      <td>Harris, who performed in the ring as Kamala, m...</td>\n    </tr>\n    <tr>\n      <th>2</th>\n      <td>'Everything is gone.' Flooding in China ruins ...</td>\n      <td>By this time of year, the rice growing on Bao ...</td>\n      <td>One of India's biggest food delivery companies...</td>\n      <td>In a statement Saturday, Zomato founder and CE...</td>\n    </tr>\n  </tbody>\n</table>\n</div>"
     },
     "metadata": {},
     "execution_count": 4
    }
   ],
   "source": [
    "data"
   ]
  },
  {
   "cell_type": "code",
   "execution_count": 6,
   "metadata": {
    "tags": []
   },
   "outputs": [
    {
     "output_type": "stream",
     "name": "stdout",
     "text": "[\"One of India's biggest food delivery companies has introduced period leave\"\n 'In a statement Saturday, Zomato founder and CEO Deepinder Goyal said women and transgender people would be entitled to one day of period leave for each menstrual cycle. Zomato — which bought Uber\\'s food delivery business in India earlier this year — is the most high profile company in the country to introduce period leave. At least a handful of other companies have introduced similar policies in the past, according to local media reports.\\n\"At Zomato, we want to foster a culture of trust, truth and acceptance,\" Goyal said in an email to staff that was posted publicly. \"There shouldn\\'t be any shame or stigma attached to applying for a period leave. You should feel free to tell people on internal groups, or emails that you are on your period leave for the day.\" ']\n                                          HEADLINE_2  \\\n1  Qualcomm's Germany Offensive Coming Up Short i...   \n2  Former WWE wrestler James 'Kamala' Harris dies...   \n\n                                              BODY_2  \n1  Qualcomm is losing steam in Germany with every...  \n2  Harris, who performed in the ring as Kamala, m...  \n[\"One of India's biggest food delivery companies has introduced period leave\"\n 'In a statement Saturday, Zomato founder and CEO Deepinder Goyal said women and transgender people would be entitled to one day of period leave for each menstrual cycle. Zomato — which bought Uber\\'s food delivery business in India earlier this year — is the most high profile company in the country to introduce period leave. At least a handful of other companies have introduced similar policies in the past, according to local media reports.\\n\"At Zomato, we want to foster a culture of trust, truth and acceptance,\" Goyal said in an email to staff that was posted publicly. \"There shouldn\\'t be any shame or stigma attached to applying for a period leave. You should feel free to tell people on internal groups, or emails that you are on your period leave for the day.\" ']\nHEADLINE_2    One of India's biggest food delivery companies...\nBODY_2        In a statement Saturday, Zomato founder and CE...\nName: 0, dtype: object\n"
    }
   ],
   "source": [
    "aug_data = data.copy()\n",
    "tmp = aug_data.iloc[-1,:][[\"HEADLINE_2\",\"BODY_2\"]].values\n",
    "print(tmp)\n",
    "aug_data.iloc[1:,:][[\"HEADLINE_2\",\"BODY_2\"]] = aug_data.iloc[:-1,:][[\"HEADLINE_2\",\"BODY_2\"]].values\n",
    "print(aug_data.iloc[1:,:][[\"HEADLINE_2\",\"BODY_2\"]])\n",
    "aug_data.iloc[0,:][[\"HEADLINE_2\",\"BODY_2\"]] = tmp\n",
    "print(tmp)\n",
    "print(aug_data.iloc[0,:][[\"HEADLINE_2\",\"BODY_2\"]])\n",
    "aug_data[\"Label\"] = 0"
   ]
  },
  {
   "cell_type": "code",
   "execution_count": 7,
   "metadata": {
    "tags": []
   },
   "outputs": [],
   "source": [
    "data[\"Label\"] = 1\n",
    "aug_data[\"Label\"] = 0"
   ]
  },
  {
   "cell_type": "code",
   "execution_count": 8,
   "metadata": {},
   "outputs": [
    {
     "output_type": "execute_result",
     "data": {
      "text/plain": "                                          HEADLINE_1  \\\n0  Qualcomm's Win Over Apple in Germany Won't For...   \n1  Trump walks out of news conference after repor...   \n2  'Everything is gone.' Flooding in China ruins ...   \n\n                                              BODY_1  \\\n0  Qualcomm's win over Apple in Germany, which if...   \n1  Trump, speaking at his Bedminster, New Jersey,...   \n2  By this time of year, the rice growing on Bao ...   \n\n                                          HEADLINE_2  \\\n0  One of India's biggest food delivery companies...   \n1  Qualcomm's Germany Offensive Coming Up Short i...   \n2  Former WWE wrestler James 'Kamala' Harris dies...   \n\n                                              BODY_2  Label  \n0  In a statement Saturday, Zomato founder and CE...      0  \n1  Qualcomm is losing steam in Germany with every...      0  \n2  Harris, who performed in the ring as Kamala, m...      0  ",
      "text/html": "<div>\n<style scoped>\n    .dataframe tbody tr th:only-of-type {\n        vertical-align: middle;\n    }\n\n    .dataframe tbody tr th {\n        vertical-align: top;\n    }\n\n    .dataframe thead th {\n        text-align: right;\n    }\n</style>\n<table border=\"1\" class=\"dataframe\">\n  <thead>\n    <tr style=\"text-align: right;\">\n      <th></th>\n      <th>HEADLINE_1</th>\n      <th>BODY_1</th>\n      <th>HEADLINE_2</th>\n      <th>BODY_2</th>\n      <th>Label</th>\n    </tr>\n  </thead>\n  <tbody>\n    <tr>\n      <th>0</th>\n      <td>Qualcomm's Win Over Apple in Germany Won't For...</td>\n      <td>Qualcomm's win over Apple in Germany, which if...</td>\n      <td>One of India's biggest food delivery companies...</td>\n      <td>In a statement Saturday, Zomato founder and CE...</td>\n      <td>0</td>\n    </tr>\n    <tr>\n      <th>1</th>\n      <td>Trump walks out of news conference after repor...</td>\n      <td>Trump, speaking at his Bedminster, New Jersey,...</td>\n      <td>Qualcomm's Germany Offensive Coming Up Short i...</td>\n      <td>Qualcomm is losing steam in Germany with every...</td>\n      <td>0</td>\n    </tr>\n    <tr>\n      <th>2</th>\n      <td>'Everything is gone.' Flooding in China ruins ...</td>\n      <td>By this time of year, the rice growing on Bao ...</td>\n      <td>Former WWE wrestler James 'Kamala' Harris dies...</td>\n      <td>Harris, who performed in the ring as Kamala, m...</td>\n      <td>0</td>\n    </tr>\n  </tbody>\n</table>\n</div>"
     },
     "metadata": {},
     "execution_count": 8
    }
   ],
   "source": [
    "aug_data"
   ]
  },
  {
   "cell_type": "code",
   "execution_count": 9,
   "metadata": {},
   "outputs": [
    {
     "output_type": "execute_result",
     "data": {
      "text/plain": "                                          HEADLINE_1  \\\n0  Qualcomm's Win Over Apple in Germany Won't For...   \n1  Trump walks out of news conference after repor...   \n2  'Everything is gone.' Flooding in China ruins ...   \n\n                                              BODY_1  \\\n0  Qualcomm's win over Apple in Germany, which if...   \n1  Trump, speaking at his Bedminster, New Jersey,...   \n2  By this time of year, the rice growing on Bao ...   \n\n                                          HEADLINE_2  \\\n0  Qualcomm's Germany Offensive Coming Up Short i...   \n1  Former WWE wrestler James 'Kamala' Harris dies...   \n2  One of India's biggest food delivery companies...   \n\n                                              BODY_2  Label  \n0  Qualcomm is losing steam in Germany with every...      1  \n1  Harris, who performed in the ring as Kamala, m...      1  \n2  In a statement Saturday, Zomato founder and CE...      1  ",
      "text/html": "<div>\n<style scoped>\n    .dataframe tbody tr th:only-of-type {\n        vertical-align: middle;\n    }\n\n    .dataframe tbody tr th {\n        vertical-align: top;\n    }\n\n    .dataframe thead th {\n        text-align: right;\n    }\n</style>\n<table border=\"1\" class=\"dataframe\">\n  <thead>\n    <tr style=\"text-align: right;\">\n      <th></th>\n      <th>HEADLINE_1</th>\n      <th>BODY_1</th>\n      <th>HEADLINE_2</th>\n      <th>BODY_2</th>\n      <th>Label</th>\n    </tr>\n  </thead>\n  <tbody>\n    <tr>\n      <th>0</th>\n      <td>Qualcomm's Win Over Apple in Germany Won't For...</td>\n      <td>Qualcomm's win over Apple in Germany, which if...</td>\n      <td>Qualcomm's Germany Offensive Coming Up Short i...</td>\n      <td>Qualcomm is losing steam in Germany with every...</td>\n      <td>1</td>\n    </tr>\n    <tr>\n      <th>1</th>\n      <td>Trump walks out of news conference after repor...</td>\n      <td>Trump, speaking at his Bedminster, New Jersey,...</td>\n      <td>Former WWE wrestler James 'Kamala' Harris dies...</td>\n      <td>Harris, who performed in the ring as Kamala, m...</td>\n      <td>1</td>\n    </tr>\n    <tr>\n      <th>2</th>\n      <td>'Everything is gone.' Flooding in China ruins ...</td>\n      <td>By this time of year, the rice growing on Bao ...</td>\n      <td>One of India's biggest food delivery companies...</td>\n      <td>In a statement Saturday, Zomato founder and CE...</td>\n      <td>1</td>\n    </tr>\n  </tbody>\n</table>\n</div>"
     },
     "metadata": {},
     "execution_count": 9
    }
   ],
   "source": [
    "data"
   ]
  },
  {
   "cell_type": "code",
   "execution_count": 10,
   "metadata": {
    "tags": []
   },
   "outputs": [
    {
     "output_type": "execute_result",
     "data": {
      "text/plain": "                                          HEADLINE_1  \\\n0  Qualcomm's Win Over Apple in Germany Won't For...   \n1  Trump walks out of news conference after repor...   \n2  'Everything is gone.' Flooding in China ruins ...   \n3  Qualcomm's Win Over Apple in Germany Won't For...   \n4  Trump walks out of news conference after repor...   \n5  'Everything is gone.' Flooding in China ruins ...   \n\n                                              BODY_1  \\\n0  Qualcomm's win over Apple in Germany, which if...   \n1  Trump, speaking at his Bedminster, New Jersey,...   \n2  By this time of year, the rice growing on Bao ...   \n3  Qualcomm's win over Apple in Germany, which if...   \n4  Trump, speaking at his Bedminster, New Jersey,...   \n5  By this time of year, the rice growing on Bao ...   \n\n                                          HEADLINE_2  \\\n0  Qualcomm's Germany Offensive Coming Up Short i...   \n1  Former WWE wrestler James 'Kamala' Harris dies...   \n2  One of India's biggest food delivery companies...   \n3  One of India's biggest food delivery companies...   \n4  Qualcomm's Germany Offensive Coming Up Short i...   \n5  Former WWE wrestler James 'Kamala' Harris dies...   \n\n                                              BODY_2  Label  \n0  Qualcomm is losing steam in Germany with every...      1  \n1  Harris, who performed in the ring as Kamala, m...      1  \n2  In a statement Saturday, Zomato founder and CE...      1  \n3  In a statement Saturday, Zomato founder and CE...      0  \n4  Qualcomm is losing steam in Germany with every...      0  \n5  Harris, who performed in the ring as Kamala, m...      0  ",
      "text/html": "<div>\n<style scoped>\n    .dataframe tbody tr th:only-of-type {\n        vertical-align: middle;\n    }\n\n    .dataframe tbody tr th {\n        vertical-align: top;\n    }\n\n    .dataframe thead th {\n        text-align: right;\n    }\n</style>\n<table border=\"1\" class=\"dataframe\">\n  <thead>\n    <tr style=\"text-align: right;\">\n      <th></th>\n      <th>HEADLINE_1</th>\n      <th>BODY_1</th>\n      <th>HEADLINE_2</th>\n      <th>BODY_2</th>\n      <th>Label</th>\n    </tr>\n  </thead>\n  <tbody>\n    <tr>\n      <th>0</th>\n      <td>Qualcomm's Win Over Apple in Germany Won't For...</td>\n      <td>Qualcomm's win over Apple in Germany, which if...</td>\n      <td>Qualcomm's Germany Offensive Coming Up Short i...</td>\n      <td>Qualcomm is losing steam in Germany with every...</td>\n      <td>1</td>\n    </tr>\n    <tr>\n      <th>1</th>\n      <td>Trump walks out of news conference after repor...</td>\n      <td>Trump, speaking at his Bedminster, New Jersey,...</td>\n      <td>Former WWE wrestler James 'Kamala' Harris dies...</td>\n      <td>Harris, who performed in the ring as Kamala, m...</td>\n      <td>1</td>\n    </tr>\n    <tr>\n      <th>2</th>\n      <td>'Everything is gone.' Flooding in China ruins ...</td>\n      <td>By this time of year, the rice growing on Bao ...</td>\n      <td>One of India's biggest food delivery companies...</td>\n      <td>In a statement Saturday, Zomato founder and CE...</td>\n      <td>1</td>\n    </tr>\n    <tr>\n      <th>3</th>\n      <td>Qualcomm's Win Over Apple in Germany Won't For...</td>\n      <td>Qualcomm's win over Apple in Germany, which if...</td>\n      <td>One of India's biggest food delivery companies...</td>\n      <td>In a statement Saturday, Zomato founder and CE...</td>\n      <td>0</td>\n    </tr>\n    <tr>\n      <th>4</th>\n      <td>Trump walks out of news conference after repor...</td>\n      <td>Trump, speaking at his Bedminster, New Jersey,...</td>\n      <td>Qualcomm's Germany Offensive Coming Up Short i...</td>\n      <td>Qualcomm is losing steam in Germany with every...</td>\n      <td>0</td>\n    </tr>\n    <tr>\n      <th>5</th>\n      <td>'Everything is gone.' Flooding in China ruins ...</td>\n      <td>By this time of year, the rice growing on Bao ...</td>\n      <td>Former WWE wrestler James 'Kamala' Harris dies...</td>\n      <td>Harris, who performed in the ring as Kamala, m...</td>\n      <td>0</td>\n    </tr>\n  </tbody>\n</table>\n</div>"
     },
     "metadata": {},
     "execution_count": 10
    }
   ],
   "source": [
    "pd.concat([data, aug_data]).reset_index(drop=True)"
   ]
  },
  {
   "cell_type": "code",
   "execution_count": 11,
   "metadata": {},
   "outputs": [],
   "source": [
    "data = pd.read_csv(\"./augmented_data.csv\", index_col=0)\n",
    "data = data.values"
   ]
  },
  {
   "cell_type": "code",
   "execution_count": 12,
   "metadata": {},
   "outputs": [
    {
     "output_type": "execute_result",
     "data": {
      "text/plain": "array([[\"Qualcomm's Win Over Apple in Germany Won't Force Apple to Table\",\n        \"Qualcomm's win over Apple in Germany, which if upheld will block the sale of some older model iPhones in Germany, could reduce Apple's quarterly sales by about $560 million, in our estimation. It's an important win for Qualcomm and builds on its momentum from a recent injunction in China, yet we don't think a victory in this battle will put enough pressure on Apple to settle the global dispute in the near term.\",\n        \"Qualcomm's Germany Offensive Coming Up Short in Apple Row\",\n        \"Qualcomm is losing steam in Germany with every decision that falls short of entirely blocking Apple's most popular iPhone models from being sold there. So far no judge has gone that far, with a Jan. 15 Mannheim court ruling in Apple's favor the latest setback for Qualcomm. The company sued Apple in Germany because the nation frequently grants broad injunctive relief in patent cases. We think Apple is likely to escape meaningful harm in Germany.\",\n        1],\n       [\"Trump walks out of news conference after reporter asks him about Veterans Choice lie he's told more than 150 times\",\n        'Trump, speaking at his Bedminster, New Jersey, golf club, had claimed again that he is the one who got the Veterans Choice program passed -- adding, \"They\\'ve been trying to get that passed for decades and decades and decades and no president\\'s ever been able to do it, and we got it done.\" In fact, former President Barack Obama signed the Choice program into law in 2014. The law, which allowed eligible veterans to be covered by the government for care provided by doctors outside the VA system, was a bipartisan initiative spearheaded by two senators Trump has repeatedly criticized, Bernie Sanders of Vermont and the late John McCain of Arizona. What Trump signed was a 2018 law, the VA MISSION Act, that modified and expanded the eligibility criteria from the Choice program. Rather than tout that bill, Trump has claimed over and over that he created Veterans Choice itself -- after others had failed for \"50 years.\" ',\n        \"Former WWE wrestler James 'Kamala' Harris dies at 70\",\n        'Harris, who performed in the ring as Kamala, made his WWF debut in 1984, according to WWE\\'s website. In a career that spanned more than two decades, Harris battled many of wrestling\\'s superstars, including Hulk Hogan, The Undertaker and Andre the Giant, according to the release. \"He terrorized opponents and thrilled audiences in Mid-South, World Class Championship Wrestling, WCW and WWE until 2006,\" the WWE said. His character, Kamala, was promoted as a 6-foot-7, 350-pound \"Ugandan Giant.\" A cause of death for Harris was not given. Other wrestlers took to social media Sunday to honor Harris using the hashtag #ripkamala.',\n        1],\n       [\"'Everything is gone.' Flooding in China ruins farmers and risks rising food prices\",\n        'By this time of year, the rice growing on Bao Wentao\\'s family farm should have been ready to harvest. Instead, heavy flooding has engulfed huge swathes of southern China, including more than 36 acres of rice fields that 19-year-old Bao and his father tend to in their village near Poyang Lake. \"The crops have completely failed,\" Bao told CNN Business in an interview over the social media app WeChat, adding that his family has already lost roughly 200,000 yuan ($28,000) worth of produce. \"The rice was nearly ripened and ready to harvest before the flooding. But now everything is gone.\" Surging floodwater burst the banks of Poyang Lake in Jiangxi province last month, destroying thousands of acres of farmland in what\\'s known as the \"land of fish and rice.\" The broader Yangtze River basin — which includes Poyang Lake and stretches more than 3,900 miles from Shanghai in the east to the Tibetan border in the west — accounts for 70% of the country\\'s rice production.',\n        \"One of India's biggest food delivery companies has introduced period leave\",\n        'In a statement Saturday, Zomato founder and CEO Deepinder Goyal said women and transgender people would be entitled to one day of period leave for each menstrual cycle. Zomato — which bought Uber\\'s food delivery business in India earlier this year — is the most high profile company in the country to introduce period leave. At least a handful of other companies have introduced similar policies in the past, according to local media reports.\\n\"At Zomato, we want to foster a culture of trust, truth and acceptance,\" Goyal said in an email to staff that was posted publicly. \"There shouldn\\'t be any shame or stigma attached to applying for a period leave. You should feel free to tell people on internal groups, or emails that you are on your period leave for the day.\" ',\n        1],\n       [\"Qualcomm's Win Over Apple in Germany Won't Force Apple to Table\",\n        \"Qualcomm's win over Apple in Germany, which if upheld will block the sale of some older model iPhones in Germany, could reduce Apple's quarterly sales by about $560 million, in our estimation. It's an important win for Qualcomm and builds on its momentum from a recent injunction in China, yet we don't think a victory in this battle will put enough pressure on Apple to settle the global dispute in the near term.\",\n        \"One of India's biggest food delivery companies has introduced period leave\",\n        'In a statement Saturday, Zomato founder and CEO Deepinder Goyal said women and transgender people would be entitled to one day of period leave for each menstrual cycle. Zomato — which bought Uber\\'s food delivery business in India earlier this year — is the most high profile company in the country to introduce period leave. At least a handful of other companies have introduced similar policies in the past, according to local media reports.\\n\"At Zomato, we want to foster a culture of trust, truth and acceptance,\" Goyal said in an email to staff that was posted publicly. \"There shouldn\\'t be any shame or stigma attached to applying for a period leave. You should feel free to tell people on internal groups, or emails that you are on your period leave for the day.\" ',\n        0],\n       [\"Trump walks out of news conference after reporter asks him about Veterans Choice lie he's told more than 150 times\",\n        'Trump, speaking at his Bedminster, New Jersey, golf club, had claimed again that he is the one who got the Veterans Choice program passed -- adding, \"They\\'ve been trying to get that passed for decades and decades and decades and no president\\'s ever been able to do it, and we got it done.\" In fact, former President Barack Obama signed the Choice program into law in 2014. The law, which allowed eligible veterans to be covered by the government for care provided by doctors outside the VA system, was a bipartisan initiative spearheaded by two senators Trump has repeatedly criticized, Bernie Sanders of Vermont and the late John McCain of Arizona. What Trump signed was a 2018 law, the VA MISSION Act, that modified and expanded the eligibility criteria from the Choice program. Rather than tout that bill, Trump has claimed over and over that he created Veterans Choice itself -- after others had failed for \"50 years.\" ',\n        \"Qualcomm's Germany Offensive Coming Up Short in Apple Row\",\n        \"Qualcomm is losing steam in Germany with every decision that falls short of entirely blocking Apple's most popular iPhone models from being sold there. So far no judge has gone that far, with a Jan. 15 Mannheim court ruling in Apple's favor the latest setback for Qualcomm. The company sued Apple in Germany because the nation frequently grants broad injunctive relief in patent cases. We think Apple is likely to escape meaningful harm in Germany.\",\n        0],\n       [\"'Everything is gone.' Flooding in China ruins farmers and risks rising food prices\",\n        'By this time of year, the rice growing on Bao Wentao\\'s family farm should have been ready to harvest. Instead, heavy flooding has engulfed huge swathes of southern China, including more than 36 acres of rice fields that 19-year-old Bao and his father tend to in their village near Poyang Lake. \"The crops have completely failed,\" Bao told CNN Business in an interview over the social media app WeChat, adding that his family has already lost roughly 200,000 yuan ($28,000) worth of produce. \"The rice was nearly ripened and ready to harvest before the flooding. But now everything is gone.\" Surging floodwater burst the banks of Poyang Lake in Jiangxi province last month, destroying thousands of acres of farmland in what\\'s known as the \"land of fish and rice.\" The broader Yangtze River basin — which includes Poyang Lake and stretches more than 3,900 miles from Shanghai in the east to the Tibetan border in the west — accounts for 70% of the country\\'s rice production.',\n        \"Former WWE wrestler James 'Kamala' Harris dies at 70\",\n        'Harris, who performed in the ring as Kamala, made his WWF debut in 1984, according to WWE\\'s website. In a career that spanned more than two decades, Harris battled many of wrestling\\'s superstars, including Hulk Hogan, The Undertaker and Andre the Giant, according to the release. \"He terrorized opponents and thrilled audiences in Mid-South, World Class Championship Wrestling, WCW and WWE until 2006,\" the WWE said. His character, Kamala, was promoted as a 6-foot-7, 350-pound \"Ugandan Giant.\" A cause of death for Harris was not given. Other wrestlers took to social media Sunday to honor Harris using the hashtag #ripkamala.',\n        0]], dtype=object)"
     },
     "metadata": {},
     "execution_count": 12
    }
   ],
   "source": [
    "data"
   ]
  },
  {
   "cell_type": "markdown",
   "metadata": {},
   "source": [
    "# NSP module"
   ]
  },
  {
   "cell_type": "code",
   "execution_count": 13,
   "metadata": {},
   "outputs": [],
   "source": [
    "class NSP(torch.nn.Module):\n",
    "    def __init__(self, model):\n",
    "        super(NSP, self).__init__()\n",
    "        self.model = model\n",
    "\n",
    "        # Pool hidden layers corresponding to the first token of the input sequence ([CLS])\n",
    "\n",
    "        self.tanh = torch.nn.Tanh()\n",
    "        self.pool = torch.nn.Linear(self.model.config.hidden_size, self.model.config.hidden_size)\n",
    "\n",
    "        self.seq_prediction = torch.nn.Linear(self.model.config.hidden_size, 2)\n",
    "\n",
    "    def forward(self, input_ids, token_type_ids, attention_mask, cls_pos = 0):\n",
    "        # the position of CLS being encoded is different for different models\n",
    "        # cls_pos = -1 : encoded at the end of the sequence (eg. XLNet)\n",
    "        # cls_pos = 0 : encoded at the beginning of the sequence (eg. BERT)\n",
    "        output = self.model(\n",
    "            input_ids=input_ids,\n",
    "            token_type_ids=token_type_ids,\n",
    "            attention_mask=attention_mask\n",
    "        )\n",
    "\n",
    "        pooled_output = self.pool(self.tanh(output[0][:,cls_pos]))\n",
    "\n",
    "        return self.seq_prediction(pooled_output)\n"
   ]
  },
  {
   "cell_type": "code",
   "execution_count": 15,
   "metadata": {
    "tags": []
   },
   "outputs": [
    {
     "output_type": "stream",
     "name": "stderr",
     "text": "Some weights of the model checkpoint at bert-base-uncased were not used when initializing BertForNextSentencePrediction: ['cls.predictions.bias', 'cls.predictions.transform.dense.weight', 'cls.predictions.transform.dense.bias', 'cls.predictions.decoder.weight', 'cls.predictions.transform.LayerNorm.weight', 'cls.predictions.transform.LayerNorm.bias']\n- This IS expected if you are initializing BertForNextSentencePrediction from the checkpoint of a model trained on another task or with another architecture (e.g. initializing a BertForSequenceClassification model from a BertForPretraining model).\n- This IS NOT expected if you are initializing BertForNextSentencePrediction from the checkpoint of a model that you expect to be exactly identical (initializing a BertForSequenceClassification model from a BertForSequenceClassification model).\n"
    }
   ],
   "source": [
    "bertmodel = BertModel.from_pretrained(\"bert-base-uncased\")\n",
    "bertnsp = BertForNextSentencePrediction.from_pretrained(\"bert-base-uncased\")\n",
    "tokenizer = BertTokenizer.from_pretrained(\"bert-base-uncased\")"
   ]
  },
  {
   "cell_type": "code",
   "execution_count": 21,
   "metadata": {},
   "outputs": [],
   "source": [
    "model = NSP(bertmodel)\n",
    "\n",
    "calc_loss = CrossEntropyLoss()\n",
    "\n",
    "optimizer = AdamW(model.parameters(), lr = 0.0001)"
   ]
  },
  {
   "cell_type": "code",
   "execution_count": 22,
   "metadata": {
    "tags": []
   },
   "outputs": [],
   "source": [
    "n = len(data)\n",
    "\n",
    "for sample in data:\n",
    "    inp = [sample[0]+\" \"+tokenizer.pad_token+\" \"+sample[1], \n",
    "           sample[2]+\" \"+tokenizer.pad_token+\" \"+sample[3]]\n",
    "    tar = torch.tensor([sample[-1]]).type(torch.long)\n",
    "    tokenized = tokenizer(inp[0], inp[1], \n",
    "                          return_tensors=\"pt\", \n",
    "                          max_length=512, \n",
    "                          truncation=True, \n",
    "                          padding=\"max_length\"\n",
    "                          )\n",
    "    output = model(**tokenized)\n",
    "    loss = CrossEntropyLoss()(output,tar)\n",
    "\n",
    "    loss.backward()\n",
    "    optimizer.step()\n",
    "    optimizer.zero_grad()"
   ]
  },
  {
   "cell_type": "code",
   "execution_count": 30,
   "metadata": {},
   "outputs": [
    {
     "output_type": "execute_result",
     "data": {
      "text/plain": "'[CLS]\\'everything is gone.\\'flooding in china ruins farmers and risks rising food prices [SEP] by this time of year, the rice growing on bao wentao\\'s family farm should have been ready to harvest. instead, heavy flooding has engulfed huge swathes of southern china, including more than 36 acres of rice fields that 19 - year - old bao and his father tend to in their village near poyang lake. \" the crops have completely failed, \" bao told cnn business in an interview over the social media app wechat, adding that his family has already lost roughly 200, 000 yuan ( $ 28, 000 ) worth of produce. \" the rice was nearly ripened and ready to harvest before the flooding. but now everything is gone. \" surging floodwater burst the banks of poyang lake in jiangxi province last month, destroying thousands of acres of farmland in what\\'s known as the \" land of fish and rice. \" the broader yangtze river basin — which includes poyang lake and stretches more than 3, 900 miles from shanghai in the east to the tibetan border in the west — accounts for 70 % of the country\\'s rice production. [SEP]'"
     },
     "metadata": {},
     "execution_count": 30
    }
   ],
   "source": [
    "tokenizer.decode(tokenizer(sample[0],sample[1],sample[2])[\"input_ids\"])"
   ]
  },
  {
   "cell_type": "code",
   "execution_count": 31,
   "metadata": {},
   "outputs": [
    {
     "output_type": "execute_result",
     "data": {
      "text/plain": "\"Former WWE wrestler James 'Kamala' Harris dies at 70\""
     },
     "metadata": {},
     "execution_count": 31
    }
   ],
   "source": []
  },
  {
   "cell_type": "code",
   "execution_count": null,
   "metadata": {},
   "outputs": [],
   "source": []
  }
 ]
}